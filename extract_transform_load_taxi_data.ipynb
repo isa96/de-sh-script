{
 "cells": [
  {
   "cell_type": "code",
   "execution_count": 1,
   "id": "dd01bb6d",
   "metadata": {},
   "outputs": [],
   "source": [
    "import pyspark\n",
    "from pyspark.sql import SparkSession\n",
    "import pandas as pd\n",
    "from pyspark.sql import types\n",
    "from pyspark.sql import functions as F\n",
    "import pandas as pd\n",
    "\n",
    "# Read the gzip-compressed Parquet file into a DataFrame\n",
    "# df = pd.read_parquet('file.parquet.gz', engine='pyarrow')"
   ]
  },
  {
   "cell_type": "code",
   "execution_count": 2,
   "id": "d427d7e1",
   "metadata": {},
   "outputs": [],
   "source": [
    "spark = SparkSession.builder \\\n",
    "        .config(\"spark.sql.parquet.compression.codec\", \"gzip\") \\\n",
    "        .master('local[*]') \\\n",
    "        .appName('test') \\\n",
    "        .getOrCreate()"
   ]
  },
  {
   "cell_type": "code",
   "execution_count": 18,
   "id": "77535041",
   "metadata": {},
   "outputs": [],
   "source": [
    "yellow_schema = types.StructType([\n",
    "    types.StructField(\"VendorID\", types.IntegerType(), True),\n",
    "    types.StructField(\"tpep_pickup_datetime\", types.TimestampType(), True),\n",
    "    types.StructField(\"tpep_dropoff_datetime\", types.TimestampType(), True),\n",
    "    types.StructField(\"passenger_count\", types.IntegerType(), True),\n",
    "    types.StructField(\"trip_distance\", types.DoubleType(), True),\n",
    "    types.StructField(\"RatecodeID\", types.IntegerType(), True),\n",
    "    types.StructField(\"store_and_fwd_flag\", types.StringType(), True),\n",
    "    types.StructField(\"PULocationID\", types.IntegerType(), True),\n",
    "    types.StructField(\"DOLocationID\", types.IntegerType(), True),\n",
    "    types.StructField(\"payment_type\", types.IntegerType(), True),\n",
    "    types.StructField(\"fare_amount\", types.DoubleType(), True),\n",
    "    types.StructField(\"extra\", types.DoubleType(), True),\n",
    "    types.StructField(\"mta_tax\", types.DoubleType(), True),\n",
    "    types.StructField(\"tip_amount\", types.DoubleType(), True),\n",
    "    types.StructField(\"tolls_amount\", types.DoubleType(), True),\n",
    "    types.StructField(\"improvement_surcharge\", types.DoubleType(), True),\n",
    "    types.StructField(\"total_amount\", types.DoubleType(), True),\n",
    "    types.StructField(\"congestion_surcharge\", types.DoubleType(), True)\n",
    "])\n",
    "\n",
    "green_schema = types.StructType([\n",
    "    types.StructField(\"VendorID\", types.IntegerType(), True),\n",
    "    types.StructField(\"lpep_pickup_datetime\", types.TimestampType(), True),\n",
    "    types.StructField(\"lpep_dropoff_datetime\", types.TimestampType(), True),\n",
    "    types.StructField(\"store_and_fwd_flag\", types.StringType(), True),\n",
    "    types.StructField(\"RatecodeID\", types.IntegerType(), True),\n",
    "    types.StructField(\"PULocationID\", types.IntegerType(), True),\n",
    "    types.StructField(\"DOLocationID\", types.IntegerType(), True),\n",
    "    types.StructField(\"passenger_count\", types.IntegerType(), True),\n",
    "    types.StructField(\"trip_distance\", types.DoubleType(), True),\n",
    "    types.StructField(\"fare_amount\", types.DoubleType(), True),\n",
    "    types.StructField(\"extra\", types.DoubleType(), True),\n",
    "    types.StructField(\"mta_tax\", types.DoubleType(), True),\n",
    "    types.StructField(\"tip_amount\", types.DoubleType(), True),\n",
    "    types.StructField(\"tolls_amount\", types.DoubleType(), True),\n",
    "    types.StructField(\"ehail_fee\", types.DoubleType(), True),\n",
    "    types.StructField(\"improvement_surcharge\", types.DoubleType(), True),\n",
    "    types.StructField(\"total_amount\", types.DoubleType(), True),\n",
    "    types.StructField(\"payment_type\", types.IntegerType(), True),\n",
    "    types.StructField(\"trip_type\", types.IntegerType(), True),\n",
    "    types.StructField(\"congestion_surcharge\", types.DoubleType(), True)\n",
    "])\n"
   ]
  },
  {
   "cell_type": "code",
   "execution_count": 25,
   "id": "61ccd3c1",
   "metadata": {},
   "outputs": [],
   "source": [
    "df_yellow = spark.read.parquet('data/raw/yellow/*/*',schema=yellow_schema)\n",
    "df_green = spark.read.parquet('data/raw/green/*/*',schema=green_schema)"
   ]
  },
  {
   "cell_type": "code",
   "execution_count": 28,
   "id": "4fd3ef7d",
   "metadata": {},
   "outputs": [
    {
     "name": "stdout",
     "output_type": "stream",
     "text": [
      "df_yellow_count = 39656098, df_green_count = 840402\n"
     ]
    }
   ],
   "source": [
    "print(f'df_yellow_count = {df_yellow.count()}, df_green_count = {df_green.count()}')"
   ]
  },
  {
   "cell_type": "markdown",
   "id": "9658a281",
   "metadata": {},
   "source": [
    "schema_check & normalization"
   ]
  },
  {
   "cell_type": "code",
   "execution_count": 29,
   "id": "efd09003",
   "metadata": {},
   "outputs": [
    {
     "name": "stdout",
     "output_type": "stream",
     "text": [
      "root\n",
      " |-- VendorID: long (nullable = true)\n",
      " |-- tpep_pickup_datetime: timestamp (nullable = true)\n",
      " |-- tpep_dropoff_datetime: timestamp (nullable = true)\n",
      " |-- passenger_count: double (nullable = true)\n",
      " |-- trip_distance: double (nullable = true)\n",
      " |-- RatecodeID: double (nullable = true)\n",
      " |-- store_and_fwd_flag: string (nullable = true)\n",
      " |-- PULocationID: long (nullable = true)\n",
      " |-- DOLocationID: long (nullable = true)\n",
      " |-- payment_type: long (nullable = true)\n",
      " |-- fare_amount: double (nullable = true)\n",
      " |-- extra: double (nullable = true)\n",
      " |-- mta_tax: double (nullable = true)\n",
      " |-- tip_amount: double (nullable = true)\n",
      " |-- tolls_amount: double (nullable = true)\n",
      " |-- improvement_surcharge: double (nullable = true)\n",
      " |-- total_amount: double (nullable = true)\n",
      " |-- congestion_surcharge: double (nullable = true)\n",
      " |-- airport_fee: double (nullable = true)\n",
      "\n"
     ]
    }
   ],
   "source": [
    "df_yellow.printSchema()"
   ]
  },
  {
   "cell_type": "code",
   "execution_count": 30,
   "id": "bf6ecace",
   "metadata": {},
   "outputs": [
    {
     "name": "stdout",
     "output_type": "stream",
     "text": [
      "root\n",
      " |-- VendorID: long (nullable = true)\n",
      " |-- lpep_pickup_datetime: timestamp (nullable = true)\n",
      " |-- lpep_dropoff_datetime: timestamp (nullable = true)\n",
      " |-- store_and_fwd_flag: string (nullable = true)\n",
      " |-- RatecodeID: double (nullable = true)\n",
      " |-- PULocationID: long (nullable = true)\n",
      " |-- DOLocationID: long (nullable = true)\n",
      " |-- passenger_count: double (nullable = true)\n",
      " |-- trip_distance: double (nullable = true)\n",
      " |-- fare_amount: double (nullable = true)\n",
      " |-- extra: double (nullable = true)\n",
      " |-- mta_tax: double (nullable = true)\n",
      " |-- tip_amount: double (nullable = true)\n",
      " |-- tolls_amount: double (nullable = true)\n",
      " |-- ehail_fee: integer (nullable = true)\n",
      " |-- improvement_surcharge: double (nullable = true)\n",
      " |-- total_amount: double (nullable = true)\n",
      " |-- payment_type: double (nullable = true)\n",
      " |-- trip_type: double (nullable = true)\n",
      " |-- congestion_surcharge: double (nullable = true)\n",
      "\n"
     ]
    }
   ],
   "source": [
    "df_green.printSchema()"
   ]
  },
  {
   "cell_type": "code",
   "execution_count": 38,
   "id": "ce62be5a",
   "metadata": {},
   "outputs": [
    {
     "data": {
      "text/plain": [
       "{'DOLocationID',\n",
       " 'PULocationID',\n",
       " 'RatecodeID',\n",
       " 'VendorID',\n",
       " 'congestion_surcharge',\n",
       " 'extra',\n",
       " 'fare_amount',\n",
       " 'improvement_surcharge',\n",
       " 'mta_tax',\n",
       " 'passenger_count',\n",
       " 'payment_type',\n",
       " 'store_and_fwd_flag',\n",
       " 'tip_amount',\n",
       " 'tolls_amount',\n",
       " 'total_amount',\n",
       " 'trip_distance'}"
      ]
     },
     "execution_count": 38,
     "metadata": {},
     "output_type": "execute_result"
    }
   ],
   "source": [
    "set(df_green.columns) & set(df_yellow.columns)"
   ]
  },
  {
   "cell_type": "code",
   "execution_count": 43,
   "id": "63ea590e",
   "metadata": {},
   "outputs": [],
   "source": [
    "# important columns (pickup & dropoff)\n",
    "df_yellow = df_yellow \\\n",
    "    .withColumnRenamed('tpep_pickup_datetime','pickup_datetime') \\\n",
    "    .withColumnRenamed('tpep_dropoff_datetime','dropoff_datetime')\n",
    "\n",
    "\n",
    "df_green = df_green \\\n",
    "    .withColumnRenamed('lpep_pickup_datetime','pickup_datetime') \\\n",
    "    .withColumnRenamed('lpep_dropoff_datetime','dropoff_datetime')"
   ]
  },
  {
   "cell_type": "code",
   "execution_count": 49,
   "id": "a6748406",
   "metadata": {},
   "outputs": [],
   "source": [
    "common_columns = []\n",
    "yellow_columns = set(df_yellow.columns)\n",
    "for col in df_green.columns:\n",
    "    if col in yellow_columns:\n",
    "        common_columns.append(col)"
   ]
  },
  {
   "cell_type": "code",
   "execution_count": 52,
   "id": "f908b087",
   "metadata": {},
   "outputs": [],
   "source": [
    "# df_green.select(common_columns).show()"
   ]
  },
  {
   "cell_type": "markdown",
   "id": "858d7b43",
   "metadata": {},
   "source": [
    "union_all_df"
   ]
  },
  {
   "cell_type": "code",
   "execution_count": 57,
   "id": "e756f926",
   "metadata": {},
   "outputs": [],
   "source": [
    "df_yellow_sel = df_yellow \\\n",
    "    .select(common_columns) \\\n",
    "    .withColumn('service_type', F.lit('yellow'))\n",
    "\n",
    "df_green_sel = df_green \\\n",
    "    .select(common_columns) \\\n",
    "    .withColumn('service_type', F.lit('green'))"
   ]
  },
  {
   "cell_type": "code",
   "execution_count": 62,
   "id": "29a58567",
   "metadata": {},
   "outputs": [],
   "source": [
    "df_trips_data = df_green_sel.unionAll(df_yellow_sel)"
   ]
  },
  {
   "cell_type": "code",
   "execution_count": 67,
   "id": "2fdbe802",
   "metadata": {},
   "outputs": [
    {
     "name": "stdout",
     "output_type": "stream",
     "text": [
      "+------------+--------+\n",
      "|service_type|   count|\n",
      "+------------+--------+\n",
      "|       green|  840402|\n",
      "|      yellow|39656098|\n",
      "+------------+--------+\n",
      "\n"
     ]
    }
   ],
   "source": [
    "# df_trips_data.show()\n",
    "df_trips_data.groupBy('service_type').count().show()"
   ]
  },
  {
   "cell_type": "code",
   "execution_count": 66,
   "id": "9227596e",
   "metadata": {},
   "outputs": [
    {
     "name": "stderr",
     "output_type": "stream",
     "text": [
      "/opt/anaconda3/lib/python3.8/site-packages/pyspark/sql/dataframe.py:138: FutureWarning: Deprecated in 2.0, use createOrReplaceTempView instead.\n",
      "  warnings.warn(\n"
     ]
    }
   ],
   "source": [
    "# register_table\n",
    "df_trips_data.registerTempTable('trips_data')"
   ]
  },
  {
   "cell_type": "code",
   "execution_count": 71,
   "id": "2b6597c4",
   "metadata": {},
   "outputs": [
    {
     "name": "stdout",
     "output_type": "stream",
     "text": [
      "+------------+--------+\n",
      "|service_type|count(1)|\n",
      "+------------+--------+\n",
      "|       green|  840402|\n",
      "|      yellow|39656098|\n",
      "+------------+--------+\n",
      "\n"
     ]
    }
   ],
   "source": [
    "spark.sql(\"\"\"\n",
    "    \n",
    "    SELECT \n",
    "        service_type,\n",
    "        count(1)\n",
    "    FROM\n",
    "        trips_data\n",
    "    GROUP BY\n",
    "        service_type\n",
    "\n",
    "\"\"\").show()"
   ]
  },
  {
   "cell_type": "code",
   "execution_count": 73,
   "id": "6aadaf75",
   "metadata": {},
   "outputs": [
    {
     "name": "stdout",
     "output_type": "stream",
     "text": [
      "+---------+----------+-----------+\n",
      "|namespace| tableName|isTemporary|\n",
      "+---------+----------+-----------+\n",
      "|         |trips_data|       true|\n",
      "+---------+----------+-----------+\n",
      "\n"
     ]
    }
   ],
   "source": [
    "spark.sql(\"\"\"\n",
    "    \n",
    "    SHOW TABLES;\n",
    "\n",
    "\"\"\").show()"
   ]
  },
  {
   "cell_type": "code",
   "execution_count": 74,
   "id": "2be6ab65",
   "metadata": {},
   "outputs": [],
   "source": [
    "df_result = spark.sql(\"\"\"\n",
    "\n",
    "SELECT \n",
    "    -- Reveneue grouping \n",
    "    PULocationID AS revenue_zone,\n",
    "    date_trunc('month', pickup_datetime) AS revenue_month, \n",
    "    service_type, \n",
    "\n",
    "    -- Revenue calculation \n",
    "    SUM(fare_amount) AS revenue_monthly_fare,\n",
    "    SUM(extra) AS revenue_monthly_extra,\n",
    "    SUM(mta_tax) AS revenue_monthly_mta_tax,\n",
    "    SUM(tip_amount) AS revenue_monthly_tip_amount,\n",
    "    SUM(tolls_amount) AS revenue_monthly_tolls_amount,\n",
    "    SUM(improvement_surcharge) AS revenue_monthly_improvement_surcharge,\n",
    "    SUM(total_amount) AS revenue_monthly_total_amount,\n",
    "    SUM(congestion_surcharge) AS revenue_monthly_congestion_surcharge,\n",
    "\n",
    "    -- Additional calculations\n",
    "    AVG(passenger_count) AS avg_montly_passenger_count,\n",
    "    AVG(trip_distance) AS avg_montly_trip_distance\n",
    "FROM\n",
    "    trips_data\n",
    "GROUP BY\n",
    "    1, 2, 3\n",
    "\n",
    "\"\"\")"
   ]
  },
  {
   "cell_type": "code",
   "execution_count": 78,
   "id": "c8428468",
   "metadata": {},
   "outputs": [],
   "source": [
    "# df_result.show()\n",
    "# df_result.write.parquet('data/report/revenue/')\n",
    "df_result.coalesce(1).write.parquet('data/report/revenue/',mode='overwrite')"
   ]
  },
  {
   "cell_type": "code",
   "execution_count": 79,
   "id": "02d131ae",
   "metadata": {},
   "outputs": [],
   "source": [
    "read_df_result = spark.read.parquet('/Users/richan/Documents/Richan/Pyspark/dags/data/report/revenue/part-00000-e7d68181-bea8-44b7-8761-07fcfc43dcde-c000.gz.parquet')"
   ]
  },
  {
   "cell_type": "code",
   "execution_count": 80,
   "id": "010c4e39",
   "metadata": {},
   "outputs": [
    {
     "name": "stdout",
     "output_type": "stream",
     "text": [
      "+------------+-------------------+------------+--------------------+---------------------+-----------------------+--------------------------+----------------------------+-------------------------------------+----------------------------+------------------------------------+--------------------------+------------------------+\n",
      "|revenue_zone|      revenue_month|service_type|revenue_monthly_fare|revenue_monthly_extra|revenue_monthly_mta_tax|revenue_monthly_tip_amount|revenue_monthly_tolls_amount|revenue_monthly_improvement_surcharge|revenue_monthly_total_amount|revenue_monthly_congestion_surcharge|avg_montly_passenger_count|avg_montly_trip_distance|\n",
      "+------------+-------------------+------------+--------------------+---------------------+-----------------------+--------------------------+----------------------------+-------------------------------------+----------------------------+------------------------------------+--------------------------+------------------------+\n",
      "|          92|2022-03-01 00:00:00|       green|  10481.759999999997|               103.25|                  158.0|         553.1500000000001|           85.14999999999998|                   128.99999999999915|          11529.559999999978|                                22.0|        1.1036144578313254|       4.199930394431554|\n",
      "|           4|2022-05-01 00:00:00|       green|  146.35000000000002|                  0.0|                    1.0|                     22.89|                        6.55|                                  1.2|                      183.49|                                 0.0|                       1.0|                  7.9875|\n",
      "|         260|2022-06-01 00:00:00|       green|            16304.26|               347.25|                  444.0|        2168.1399999999994|          195.50000000000006|                    310.5000000000059|           19898.89999999984|                               126.5|         1.461847389558233|       81.87394661582462|\n",
      "|         265|2022-03-01 00:00:00|       green|  2289.0099999999998|                  7.5|                   19.5|                    285.62|                       63.45|                    18.00000000000002|                     2688.58|                                 5.5|        1.3442622950819672|       6.339843749999999|\n",
      "|         149|2022-05-01 00:00:00|       green|              642.78|                  1.5|                    7.5|        33.230000000000004|                        13.1|                    5.999999999999998|                      704.11|                                 0.0|        1.2352941176470589|                  4.2555|\n",
      "|          41|2022-06-01 00:00:00|       green|  60205.400000000125|              1371.75|                 2057.5|         8567.199999999992|          1346.7999999999954|                   1456.4999999998722|           78785.85000000289|                             3236.25|        1.2592239942870744|       83.13747851002857|\n",
      "|         255|2022-03-01 00:00:00|       green|   6080.540000000002|                85.75|                   91.0|        1082.3599999999997|          45.849999999999994|                   102.59999999999938|           7773.300000000009|                               159.5|         1.312169312169312|       76.61125364431483|\n",
      "|          50|2022-05-01 00:00:00|       green|                26.2|                  0.0|                    0.5|                       0.0|                         0.0|                                  0.3|                        27.0|                                 0.0|                       1.0|                     0.0|\n",
      "|         177|2022-03-01 00:00:00|       green|  1391.9499999999996|                  4.0|                   16.0|                     75.05|                        13.1|                   19.800000000000026|          1530.8999999999994|                                 0.0|        1.1025641025641026|      2.9292424242424238|\n",
      "|          25|2022-04-01 00:00:00|       green|  13025.689999999995|               204.25|                  289.0|        1979.5500000000006|                        64.8|                     233.100000000003|          16172.489999999976|                               220.0|        1.2694214876033059|      3.4840153452685403|\n",
      "|         234|2022-03-01 00:00:00|       green|               86.99|                  0.0|                    0.0|                     19.82|                        6.55|                                  0.6|          119.46000000000001|                                null|                      null|                   15.54|\n",
      "|         155|2022-05-01 00:00:00|       green|              996.55|                  0.0|                    9.5|        25.869999999999997|                       19.65|                    8.399999999999999|                     1065.47|                                 0.0|                       1.0|       3.720714285714286|\n",
      "|         244|2022-03-01 00:00:00|       green|   48637.00000000001|               1251.5|                 1145.5|         7439.550000000018|           781.6999999999991|                    777.5999999999749|           62960.80000000114|                              3008.5|        1.3019189765458423|       57.81201764480245|\n",
      "|          15|2022-03-01 00:00:00|       green|  395.04999999999995|                  0.0|                    2.0|                       3.4|                         0.0|                   2.6999999999999997|                      403.15|                                 0.0|                       2.1|      2.3607692307692307|\n",
      "|         260|2022-02-01 00:00:00|       green|  11198.720000000003|               272.25|                  328.5|        1274.2899999999995|                       136.2|                    230.1000000000029|          13561.059999999943|                              118.25|        1.4899057873485868|      3.2829533678756495|\n",
      "|         112|2022-05-01 00:00:00|       green|   5135.799999999992|                 57.0|                   49.5|         895.4499999999997|           72.04999999999998|                    77.09999999999964|           6464.849999999997|                                93.5|         1.276190476190476|       484.9125291828791|\n",
      "|          39|2022-03-01 00:00:00|       green|   2057.390000000001|                  3.5|                   21.5|                     14.57|           98.24999999999997|                   16.500000000000018|           2211.709999999999|                                 0.0|                       1.1|       1.188181818181818|\n",
      "|         182|2022-05-01 00:00:00|       green|  1058.8700000000003|                  2.5|                   18.0|                     40.64|          45.849999999999994|                   15.300000000000015|          1183.9099999999996|                                 0.0|        1.0454545454545454|      1.7862745098039214|\n",
      "|         116|2022-03-01 00:00:00|       green|  17817.969999999976|               308.75|                  476.0|         2319.409999999999|           301.8500000000002|                    361.8000000000079|          22400.729999999796|                              734.25|         1.304480651731161|      248.73544407894727|\n",
      "|          52|2022-05-01 00:00:00|       green|   6052.369999999999|               102.25|                  155.5|        1073.8600000000008|           58.24999999999999|                   119.39999999999924|           7791.830000000017|                               165.0|        1.1379310344827587|       3.284243176178657|\n",
      "+------------+-------------------+------------+--------------------+---------------------+-----------------------+--------------------------+----------------------------+-------------------------------------+----------------------------+------------------------------------+--------------------------+------------------------+\n",
      "only showing top 20 rows\n",
      "\n"
     ]
    }
   ],
   "source": [
    "read_df_result.show()"
   ]
  },
  {
   "cell_type": "code",
   "execution_count": null,
   "id": "961272bf",
   "metadata": {},
   "outputs": [],
   "source": []
  }
 ],
 "metadata": {
  "kernelspec": {
   "display_name": "Python 3",
   "language": "python",
   "name": "python3"
  },
  "language_info": {
   "codemirror_mode": {
    "name": "ipython",
    "version": 3
   },
   "file_extension": ".py",
   "mimetype": "text/x-python",
   "name": "python",
   "nbconvert_exporter": "python",
   "pygments_lexer": "ipython3",
   "version": "3.8.8"
  }
 },
 "nbformat": 4,
 "nbformat_minor": 5
}
